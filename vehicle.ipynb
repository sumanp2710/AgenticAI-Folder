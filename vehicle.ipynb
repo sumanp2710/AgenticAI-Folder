{
  "nbformat": 4,
  "nbformat_minor": 0,
  "metadata": {
    "colab": {
      "provenance": []
    },
    "kernelspec": {
      "name": "python3",
      "display_name": "Python 3"
    },
    "language_info": {
      "name": "python"
    }
  },
  "cells": [
    {
      "cell_type": "code",
      "execution_count": 1,
      "metadata": {
        "colab": {
          "base_uri": "https://localhost:8080/"
        },
        "id": "WbNpf31hzEiK",
        "outputId": "44628cfd-99a8-4bde-e177-e4c5581126ad"
      },
      "outputs": [
        {
          "output_type": "stream",
          "name": "stdout",
          "text": [
            "Cloning into 'AgenticAI-Folder'...\n",
            "remote: Enumerating objects: 172, done.\u001b[K\n",
            "remote: Counting objects: 100% (172/172), done.\u001b[K\n",
            "remote: Compressing objects: 100% (147/147), done.\u001b[K\n",
            "remote: Total 172 (delta 23), reused 157 (delta 17), pack-reused 0 (from 0)\u001b[K\n",
            "Receiving objects: 100% (172/172), 17.48 MiB | 22.74 MiB/s, done.\n",
            "Resolving deltas: 100% (23/23), done.\n"
          ]
        }
      ],
      "source": [
        "!git clone https://github.com/sumanp2710/AgenticAI-Folder"
      ]
    },
    {
      "cell_type": "code",
      "source": [
        "!ls AgenticAI-Folder/Labs/Lab1/vehicle_maintenance_agent\n"
      ],
      "metadata": {
        "colab": {
          "base_uri": "https://localhost:8080/"
        },
        "id": "J8DeRjGEzWi5",
        "outputId": "22b6c696-7694-44dd-ae3f-611c4ff992a2"
      },
      "execution_count": 5,
      "outputs": [
        {
          "output_type": "stream",
          "name": "stdout",
          "text": [
            "agents\tcleanup.sh  knowledge_bases  README.md\tsetup.sh  tools\n"
          ]
        }
      ]
    },
    {
      "cell_type": "code",
      "source": [
        "import sys\n",
        "sys.path.append('/content/AgenticAI-Folder/Labs/Lab1/vehicle_maintenance_agent/tools')\n"
      ],
      "metadata": {
        "id": "i0JGYAXNzWu5"
      },
      "execution_count": 6,
      "outputs": []
    },
    {
      "cell_type": "code",
      "source": [
        "pip install ibm_watsonx_orchestrate"
      ],
      "metadata": {
        "colab": {
          "base_uri": "https://localhost:8080/"
        },
        "id": "5uTMW6un0ZfV",
        "outputId": "cccd0633-0a4a-4c42-bd25-4468dd963ee2"
      },
      "execution_count": 8,
      "outputs": [
        {
          "output_type": "stream",
          "name": "stdout",
          "text": [
            "Collecting ibm_watsonx_orchestrate\n",
            "  Downloading ibm_watsonx_orchestrate-1.4.2-py3-none-any.whl.metadata (1.4 kB)\n",
            "Requirement already satisfied: certifi>=2024.8.30 in /usr/local/lib/python3.11/dist-packages (from ibm_watsonx_orchestrate) (2025.4.26)\n",
            "Collecting click<8.2.0,>=8.0.0 (from ibm_watsonx_orchestrate)\n",
            "  Downloading click-8.1.8-py3-none-any.whl.metadata (2.3 kB)\n",
            "Requirement already satisfied: docstring-parser<1.0,>=0.16 in /usr/local/lib/python3.11/dist-packages (from ibm_watsonx_orchestrate) (0.16)\n",
            "Requirement already satisfied: httpx<1.0.0,>=0.28.1 in /usr/local/lib/python3.11/dist-packages (from ibm_watsonx_orchestrate) (0.28.1)\n",
            "Collecting ibm-cloud-sdk-core>=3.22.0 (from ibm_watsonx_orchestrate)\n",
            "  Downloading ibm_cloud_sdk_core-3.24.1-py3-none-any.whl.metadata (8.7 kB)\n",
            "Collecting jsonref==1.1.0 (from ibm_watsonx_orchestrate)\n",
            "  Downloading jsonref-1.1.0-py3-none-any.whl.metadata (2.7 kB)\n",
            "Requirement already satisfied: jsonschema<5.0.0,>=4.23.0 in /usr/local/lib/python3.11/dist-packages (from ibm_watsonx_orchestrate) (4.24.0)\n",
            "Collecting langchain-community<1.0.0,>=0.3.12 (from ibm_watsonx_orchestrate)\n",
            "  Downloading langchain_community-0.3.25-py3-none-any.whl.metadata (2.9 kB)\n",
            "Collecting munch>=4.0.0 (from ibm_watsonx_orchestrate)\n",
            "  Downloading munch-4.0.0-py2.py3-none-any.whl.metadata (5.9 kB)\n",
            "Requirement already satisfied: numpy>=1.26.0 in /usr/local/lib/python3.11/dist-packages (from ibm_watsonx_orchestrate) (2.0.2)\n",
            "Requirement already satisfied: packaging>=24.2 in /usr/local/lib/python3.11/dist-packages (from ibm_watsonx_orchestrate) (24.2)\n",
            "Requirement already satisfied: pydantic<3.0.0,>=2.10.3 in /usr/local/lib/python3.11/dist-packages (from ibm_watsonx_orchestrate) (2.11.5)\n",
            "Requirement already satisfied: pyjwt<3.0.0,>=2.10.1 in /usr/local/lib/python3.11/dist-packages (from ibm_watsonx_orchestrate) (2.10.1)\n",
            "Collecting python-dotenv>=1.0.0 (from ibm_watsonx_orchestrate)\n",
            "  Downloading python_dotenv-1.1.0-py3-none-any.whl.metadata (24 kB)\n",
            "Requirement already satisfied: pytz>=2025.2 in /usr/local/lib/python3.11/dist-packages (from ibm_watsonx_orchestrate) (2025.2)\n",
            "Requirement already satisfied: pyyaml<7.0.0,>=6.0.2 in /usr/local/lib/python3.11/dist-packages (from ibm_watsonx_orchestrate) (6.0.2)\n",
            "Collecting redis>=6.0.0 (from ibm_watsonx_orchestrate)\n",
            "  Downloading redis-6.2.0-py3-none-any.whl.metadata (10 kB)\n",
            "Requirement already satisfied: requests>=2.32.0 in /usr/local/lib/python3.11/dist-packages (from ibm_watsonx_orchestrate) (2.32.3)\n",
            "Requirement already satisfied: rich<14.0.0,>=13.9.4 in /usr/local/lib/python3.11/dist-packages (from ibm_watsonx_orchestrate) (13.9.4)\n",
            "Requirement already satisfied: typer<1.0.0,>=0.15.1 in /usr/local/lib/python3.11/dist-packages (from ibm_watsonx_orchestrate) (0.16.0)\n",
            "Requirement already satisfied: urllib3>=2.2.3 in /usr/local/lib/python3.11/dist-packages (from ibm_watsonx_orchestrate) (2.4.0)\n",
            "Requirement already satisfied: anyio in /usr/local/lib/python3.11/dist-packages (from httpx<1.0.0,>=0.28.1->ibm_watsonx_orchestrate) (4.9.0)\n",
            "Requirement already satisfied: httpcore==1.* in /usr/local/lib/python3.11/dist-packages (from httpx<1.0.0,>=0.28.1->ibm_watsonx_orchestrate) (1.0.9)\n",
            "Requirement already satisfied: idna in /usr/local/lib/python3.11/dist-packages (from httpx<1.0.0,>=0.28.1->ibm_watsonx_orchestrate) (3.10)\n",
            "Requirement already satisfied: h11>=0.16 in /usr/local/lib/python3.11/dist-packages (from httpcore==1.*->httpx<1.0.0,>=0.28.1->ibm_watsonx_orchestrate) (0.16.0)\n",
            "Requirement already satisfied: python_dateutil<3.0.0,>=2.8.2 in /usr/local/lib/python3.11/dist-packages (from ibm-cloud-sdk-core>=3.22.0->ibm_watsonx_orchestrate) (2.9.0.post0)\n",
            "Requirement already satisfied: attrs>=22.2.0 in /usr/local/lib/python3.11/dist-packages (from jsonschema<5.0.0,>=4.23.0->ibm_watsonx_orchestrate) (25.3.0)\n",
            "Requirement already satisfied: jsonschema-specifications>=2023.03.6 in /usr/local/lib/python3.11/dist-packages (from jsonschema<5.0.0,>=4.23.0->ibm_watsonx_orchestrate) (2025.4.1)\n",
            "Requirement already satisfied: referencing>=0.28.4 in /usr/local/lib/python3.11/dist-packages (from jsonschema<5.0.0,>=4.23.0->ibm_watsonx_orchestrate) (0.36.2)\n",
            "Requirement already satisfied: rpds-py>=0.7.1 in /usr/local/lib/python3.11/dist-packages (from jsonschema<5.0.0,>=4.23.0->ibm_watsonx_orchestrate) (0.25.1)\n",
            "Collecting langchain-core<1.0.0,>=0.3.65 (from langchain-community<1.0.0,>=0.3.12->ibm_watsonx_orchestrate)\n",
            "  Downloading langchain_core-0.3.65-py3-none-any.whl.metadata (5.8 kB)\n",
            "Requirement already satisfied: langchain<1.0.0,>=0.3.25 in /usr/local/lib/python3.11/dist-packages (from langchain-community<1.0.0,>=0.3.12->ibm_watsonx_orchestrate) (0.3.25)\n",
            "Requirement already satisfied: SQLAlchemy<3,>=1.4 in /usr/local/lib/python3.11/dist-packages (from langchain-community<1.0.0,>=0.3.12->ibm_watsonx_orchestrate) (2.0.41)\n",
            "Requirement already satisfied: aiohttp<4.0.0,>=3.8.3 in /usr/local/lib/python3.11/dist-packages (from langchain-community<1.0.0,>=0.3.12->ibm_watsonx_orchestrate) (3.11.15)\n",
            "Requirement already satisfied: tenacity!=8.4.0,<10,>=8.1.0 in /usr/local/lib/python3.11/dist-packages (from langchain-community<1.0.0,>=0.3.12->ibm_watsonx_orchestrate) (9.1.2)\n",
            "Collecting dataclasses-json<0.7,>=0.5.7 (from langchain-community<1.0.0,>=0.3.12->ibm_watsonx_orchestrate)\n",
            "  Downloading dataclasses_json-0.6.7-py3-none-any.whl.metadata (25 kB)\n",
            "Collecting pydantic-settings<3.0.0,>=2.4.0 (from langchain-community<1.0.0,>=0.3.12->ibm_watsonx_orchestrate)\n",
            "  Downloading pydantic_settings-2.9.1-py3-none-any.whl.metadata (3.8 kB)\n",
            "Requirement already satisfied: langsmith<0.4,>=0.1.125 in /usr/local/lib/python3.11/dist-packages (from langchain-community<1.0.0,>=0.3.12->ibm_watsonx_orchestrate) (0.3.44)\n",
            "Collecting httpx-sse<1.0.0,>=0.4.0 (from langchain-community<1.0.0,>=0.3.12->ibm_watsonx_orchestrate)\n",
            "  Downloading httpx_sse-0.4.0-py3-none-any.whl.metadata (9.0 kB)\n",
            "Requirement already satisfied: annotated-types>=0.6.0 in /usr/local/lib/python3.11/dist-packages (from pydantic<3.0.0,>=2.10.3->ibm_watsonx_orchestrate) (0.7.0)\n",
            "Requirement already satisfied: pydantic-core==2.33.2 in /usr/local/lib/python3.11/dist-packages (from pydantic<3.0.0,>=2.10.3->ibm_watsonx_orchestrate) (2.33.2)\n",
            "Requirement already satisfied: typing-extensions>=4.12.2 in /usr/local/lib/python3.11/dist-packages (from pydantic<3.0.0,>=2.10.3->ibm_watsonx_orchestrate) (4.14.0)\n",
            "Requirement already satisfied: typing-inspection>=0.4.0 in /usr/local/lib/python3.11/dist-packages (from pydantic<3.0.0,>=2.10.3->ibm_watsonx_orchestrate) (0.4.1)\n",
            "Requirement already satisfied: charset-normalizer<4,>=2 in /usr/local/lib/python3.11/dist-packages (from requests>=2.32.0->ibm_watsonx_orchestrate) (3.4.2)\n",
            "Requirement already satisfied: markdown-it-py>=2.2.0 in /usr/local/lib/python3.11/dist-packages (from rich<14.0.0,>=13.9.4->ibm_watsonx_orchestrate) (3.0.0)\n",
            "Requirement already satisfied: pygments<3.0.0,>=2.13.0 in /usr/local/lib/python3.11/dist-packages (from rich<14.0.0,>=13.9.4->ibm_watsonx_orchestrate) (2.19.1)\n",
            "Requirement already satisfied: shellingham>=1.3.0 in /usr/local/lib/python3.11/dist-packages (from typer<1.0.0,>=0.15.1->ibm_watsonx_orchestrate) (1.5.4)\n",
            "Requirement already satisfied: aiohappyeyeballs>=2.3.0 in /usr/local/lib/python3.11/dist-packages (from aiohttp<4.0.0,>=3.8.3->langchain-community<1.0.0,>=0.3.12->ibm_watsonx_orchestrate) (2.6.1)\n",
            "Requirement already satisfied: aiosignal>=1.1.2 in /usr/local/lib/python3.11/dist-packages (from aiohttp<4.0.0,>=3.8.3->langchain-community<1.0.0,>=0.3.12->ibm_watsonx_orchestrate) (1.3.2)\n",
            "Requirement already satisfied: frozenlist>=1.1.1 in /usr/local/lib/python3.11/dist-packages (from aiohttp<4.0.0,>=3.8.3->langchain-community<1.0.0,>=0.3.12->ibm_watsonx_orchestrate) (1.6.0)\n",
            "Requirement already satisfied: multidict<7.0,>=4.5 in /usr/local/lib/python3.11/dist-packages (from aiohttp<4.0.0,>=3.8.3->langchain-community<1.0.0,>=0.3.12->ibm_watsonx_orchestrate) (6.4.4)\n",
            "Requirement already satisfied: propcache>=0.2.0 in /usr/local/lib/python3.11/dist-packages (from aiohttp<4.0.0,>=3.8.3->langchain-community<1.0.0,>=0.3.12->ibm_watsonx_orchestrate) (0.3.1)\n",
            "Requirement already satisfied: yarl<2.0,>=1.17.0 in /usr/local/lib/python3.11/dist-packages (from aiohttp<4.0.0,>=3.8.3->langchain-community<1.0.0,>=0.3.12->ibm_watsonx_orchestrate) (1.20.0)\n",
            "Collecting marshmallow<4.0.0,>=3.18.0 (from dataclasses-json<0.7,>=0.5.7->langchain-community<1.0.0,>=0.3.12->ibm_watsonx_orchestrate)\n",
            "  Downloading marshmallow-3.26.1-py3-none-any.whl.metadata (7.3 kB)\n",
            "Collecting typing-inspect<1,>=0.4.0 (from dataclasses-json<0.7,>=0.5.7->langchain-community<1.0.0,>=0.3.12->ibm_watsonx_orchestrate)\n",
            "  Downloading typing_inspect-0.9.0-py3-none-any.whl.metadata (1.5 kB)\n",
            "Requirement already satisfied: langchain-text-splitters<1.0.0,>=0.3.8 in /usr/local/lib/python3.11/dist-packages (from langchain<1.0.0,>=0.3.25->langchain-community<1.0.0,>=0.3.12->ibm_watsonx_orchestrate) (0.3.8)\n",
            "Collecting langsmith<0.4,>=0.1.125 (from langchain-community<1.0.0,>=0.3.12->ibm_watsonx_orchestrate)\n",
            "  Downloading langsmith-0.3.45-py3-none-any.whl.metadata (15 kB)\n",
            "Requirement already satisfied: jsonpatch<2.0,>=1.33 in /usr/local/lib/python3.11/dist-packages (from langchain-core<1.0.0,>=0.3.65->langchain-community<1.0.0,>=0.3.12->ibm_watsonx_orchestrate) (1.33)\n",
            "Requirement already satisfied: orjson<4.0.0,>=3.9.14 in /usr/local/lib/python3.11/dist-packages (from langsmith<0.4,>=0.1.125->langchain-community<1.0.0,>=0.3.12->ibm_watsonx_orchestrate) (3.10.18)\n",
            "Requirement already satisfied: requests-toolbelt<2.0.0,>=1.0.0 in /usr/local/lib/python3.11/dist-packages (from langsmith<0.4,>=0.1.125->langchain-community<1.0.0,>=0.3.12->ibm_watsonx_orchestrate) (1.0.0)\n",
            "Requirement already satisfied: zstandard<0.24.0,>=0.23.0 in /usr/local/lib/python3.11/dist-packages (from langsmith<0.4,>=0.1.125->langchain-community<1.0.0,>=0.3.12->ibm_watsonx_orchestrate) (0.23.0)\n",
            "Requirement already satisfied: mdurl~=0.1 in /usr/local/lib/python3.11/dist-packages (from markdown-it-py>=2.2.0->rich<14.0.0,>=13.9.4->ibm_watsonx_orchestrate) (0.1.2)\n",
            "Requirement already satisfied: six>=1.5 in /usr/local/lib/python3.11/dist-packages (from python_dateutil<3.0.0,>=2.8.2->ibm-cloud-sdk-core>=3.22.0->ibm_watsonx_orchestrate) (1.17.0)\n",
            "Requirement already satisfied: greenlet>=1 in /usr/local/lib/python3.11/dist-packages (from SQLAlchemy<3,>=1.4->langchain-community<1.0.0,>=0.3.12->ibm_watsonx_orchestrate) (3.2.2)\n",
            "Requirement already satisfied: sniffio>=1.1 in /usr/local/lib/python3.11/dist-packages (from anyio->httpx<1.0.0,>=0.28.1->ibm_watsonx_orchestrate) (1.3.1)\n",
            "Requirement already satisfied: jsonpointer>=1.9 in /usr/local/lib/python3.11/dist-packages (from jsonpatch<2.0,>=1.33->langchain-core<1.0.0,>=0.3.65->langchain-community<1.0.0,>=0.3.12->ibm_watsonx_orchestrate) (3.0.0)\n",
            "Collecting mypy-extensions>=0.3.0 (from typing-inspect<1,>=0.4.0->dataclasses-json<0.7,>=0.5.7->langchain-community<1.0.0,>=0.3.12->ibm_watsonx_orchestrate)\n",
            "  Downloading mypy_extensions-1.1.0-py3-none-any.whl.metadata (1.1 kB)\n",
            "Downloading ibm_watsonx_orchestrate-1.4.2-py3-none-any.whl (4.2 MB)\n",
            "\u001b[2K   \u001b[90m━━━━━━━━━━━━━━━━━━━━━━━━━━━━━━━━━━━━━━━━\u001b[0m \u001b[32m4.2/4.2 MB\u001b[0m \u001b[31m24.7 MB/s\u001b[0m eta \u001b[36m0:00:00\u001b[0m\n",
            "\u001b[?25hDownloading jsonref-1.1.0-py3-none-any.whl (9.4 kB)\n",
            "Downloading click-8.1.8-py3-none-any.whl (98 kB)\n",
            "\u001b[2K   \u001b[90m━━━━━━━━━━━━━━━━━━━━━━━━━━━━━━━━━━━━━━━━\u001b[0m \u001b[32m98.2/98.2 kB\u001b[0m \u001b[31m4.3 MB/s\u001b[0m eta \u001b[36m0:00:00\u001b[0m\n",
            "\u001b[?25hDownloading ibm_cloud_sdk_core-3.24.1-py3-none-any.whl (75 kB)\n",
            "\u001b[2K   \u001b[90m━━━━━━━━━━━━━━━━━━━━━━━━━━━━━━━━━━━━━━━━\u001b[0m \u001b[32m75.8/75.8 kB\u001b[0m \u001b[31m3.7 MB/s\u001b[0m eta \u001b[36m0:00:00\u001b[0m\n",
            "\u001b[?25hDownloading langchain_community-0.3.25-py3-none-any.whl (2.5 MB)\n",
            "\u001b[2K   \u001b[90m━━━━━━━━━━━━━━━━━━━━━━━━━━━━━━━━━━━━━━━━\u001b[0m \u001b[32m2.5/2.5 MB\u001b[0m \u001b[31m34.9 MB/s\u001b[0m eta \u001b[36m0:00:00\u001b[0m\n",
            "\u001b[?25hDownloading munch-4.0.0-py2.py3-none-any.whl (9.9 kB)\n",
            "Downloading python_dotenv-1.1.0-py3-none-any.whl (20 kB)\n",
            "Downloading redis-6.2.0-py3-none-any.whl (278 kB)\n",
            "\u001b[2K   \u001b[90m━━━━━━━━━━━━━━━━━━━━━━━━━━━━━━━━━━━━━━━━\u001b[0m \u001b[32m278.7/278.7 kB\u001b[0m \u001b[31m14.1 MB/s\u001b[0m eta \u001b[36m0:00:00\u001b[0m\n",
            "\u001b[?25hDownloading dataclasses_json-0.6.7-py3-none-any.whl (28 kB)\n",
            "Downloading httpx_sse-0.4.0-py3-none-any.whl (7.8 kB)\n",
            "Downloading langchain_core-0.3.65-py3-none-any.whl (438 kB)\n",
            "\u001b[2K   \u001b[90m━━━━━━━━━━━━━━━━━━━━━━━━━━━━━━━━━━━━━━━━\u001b[0m \u001b[32m438.1/438.1 kB\u001b[0m \u001b[31m18.2 MB/s\u001b[0m eta \u001b[36m0:00:00\u001b[0m\n",
            "\u001b[?25hDownloading langsmith-0.3.45-py3-none-any.whl (363 kB)\n",
            "\u001b[2K   \u001b[90m━━━━━━━━━━━━━━━━━━━━━━━━━━━━━━━━━━━━━━━━\u001b[0m \u001b[32m363.0/363.0 kB\u001b[0m \u001b[31m16.6 MB/s\u001b[0m eta \u001b[36m0:00:00\u001b[0m\n",
            "\u001b[?25hDownloading pydantic_settings-2.9.1-py3-none-any.whl (44 kB)\n",
            "\u001b[2K   \u001b[90m━━━━━━━━━━━━━━━━━━━━━━━━━━━━━━━━━━━━━━━━\u001b[0m \u001b[32m44.4/44.4 kB\u001b[0m \u001b[31m1.8 MB/s\u001b[0m eta \u001b[36m0:00:00\u001b[0m\n",
            "\u001b[?25hDownloading marshmallow-3.26.1-py3-none-any.whl (50 kB)\n",
            "\u001b[2K   \u001b[90m━━━━━━━━━━━━━━━━━━━━━━━━━━━━━━━━━━━━━━━━\u001b[0m \u001b[32m50.9/50.9 kB\u001b[0m \u001b[31m2.2 MB/s\u001b[0m eta \u001b[36m0:00:00\u001b[0m\n",
            "\u001b[?25hDownloading typing_inspect-0.9.0-py3-none-any.whl (8.8 kB)\n",
            "Downloading mypy_extensions-1.1.0-py3-none-any.whl (5.0 kB)\n",
            "Installing collected packages: redis, python-dotenv, mypy-extensions, munch, marshmallow, jsonref, httpx-sse, click, typing-inspect, ibm-cloud-sdk-core, pydantic-settings, langsmith, dataclasses-json, langchain-core, langchain-community, ibm_watsonx_orchestrate\n",
            "  Attempting uninstall: click\n",
            "    Found existing installation: click 8.2.1\n",
            "    Uninstalling click-8.2.1:\n",
            "      Successfully uninstalled click-8.2.1\n",
            "  Attempting uninstall: langsmith\n",
            "    Found existing installation: langsmith 0.3.44\n",
            "    Uninstalling langsmith-0.3.44:\n",
            "      Successfully uninstalled langsmith-0.3.44\n",
            "  Attempting uninstall: langchain-core\n",
            "    Found existing installation: langchain-core 0.3.63\n",
            "    Uninstalling langchain-core-0.3.63:\n",
            "      Successfully uninstalled langchain-core-0.3.63\n",
            "Successfully installed click-8.1.8 dataclasses-json-0.6.7 httpx-sse-0.4.0 ibm-cloud-sdk-core-3.24.1 ibm_watsonx_orchestrate-1.4.2 jsonref-1.1.0 langchain-community-0.3.25 langchain-core-0.3.65 langsmith-0.3.45 marshmallow-3.26.1 munch-4.0.0 mypy-extensions-1.1.0 pydantic-settings-2.9.1 python-dotenv-1.1.0 redis-6.2.0 typing-inspect-0.9.0\n"
          ]
        }
      ]
    },
    {
      "cell_type": "code",
      "source": [
        "!orchestrate env add --name bootcamp --url <YOUR - URL> -t ibm_iam\n"
      ],
      "metadata": {
        "colab": {
          "base_uri": "https://localhost:8080/"
        },
        "id": "X18P2jMD0nIl",
        "outputId": "af96b3fe-d240-4095-cae5-bc77d137fca5"
      },
      "execution_count": 12,
      "outputs": [
        {
          "output_type": "stream",
          "name": "stdout",
          "text": [
            "\u001b[0;36m[INFO]\u001b[0;0m - Creating config file at location \"/root/.config/orchestrate/config.yaml\"\n",
            "\u001b[0;35m[DEBUG]\u001b[0;0m - Setting default config data\n",
            "\u001b[0;36m[INFO]\u001b[0;0m - Environment 'bootcamp' has been created\n"
          ]
        }
      ]
    },
    {
      "cell_type": "code",
      "source": [
        "\n",
        "!orchestrate env activate bootcamp --apikey <YOUR API KEY>"
      ],
      "metadata": {
        "colab": {
          "base_uri": "https://localhost:8080/"
        },
        "id": "fCFcAGuV0Ti0",
        "outputId": "bae3a583-8a78-4f00-e87a-df39fa892749"
      },
      "execution_count": 13,
      "outputs": [
        {
          "output_type": "stream",
          "name": "stdout",
          "text": [
            "\u001b[0;36m[INFO]\u001b[0;0m - Creating config file at location \"/root/.cache/orchestrate/credentials.yaml\"\n",
            "\u001b[0;35m[DEBUG]\u001b[0;0m - Setting default credentials data\n",
            "\u001b[0;36m[INFO]\u001b[0;0m - Environment 'bootcamp' is now active\n"
          ]
        }
      ]
    },
    {
      "cell_type": "code",
      "source": [
        "!orchestrate tools import -k python -f \"/content/AgenticAI-Folder/Labs/Lab1/vehicle_maintenance_agent/tools/get_nearest_service_center.py\" -r \"/content/AgenticAI-Folder/Labs/Lab1/vehicle_maintenance_agent/tools/requirements.txt\""
      ],
      "metadata": {
        "colab": {
          "base_uri": "https://localhost:8080/"
        },
        "id": "XEKnXz6r1D2Z",
        "outputId": "d5e55f49-11c6-4ea1-d9c1-1e703bc38e73"
      },
      "execution_count": 16,
      "outputs": [
        {
          "output_type": "stream",
          "name": "stdout",
          "text": [
            "\u001b[0;36m[INFO]\u001b[0;0m - Using requirement file: \"/content/AgenticAI-Folder/Labs/Lab1/vehicle_maintenance_agent/tools/requirements.txt\"\n",
            "\u001b[0;36m[INFO]\u001b[0;0m - Existing Tool 'get_nearest_service_center' found. Updating...\n",
            "\u001b[0;36m[INFO]\u001b[0;0m - Tool 'get_nearest_service_center' updated successfully\n"
          ]
        }
      ]
    },
    {
      "cell_type": "code",
      "source": [
        "!orchestrate tools import -k python -f \"/content/AgenticAI-Folder/Labs/Lab1/vehicle_maintenance_agent/tools/get_vehicle_telematics.py\" -r \"/content/AgenticAI-Folder/Labs/Lab1/vehicle_maintenance_agent/tools/requirements.txt\""
      ],
      "metadata": {
        "colab": {
          "base_uri": "https://localhost:8080/"
        },
        "id": "NWXvU7xF17MK",
        "outputId": "b54a2cc7-3044-4dcd-8c47-c13c3a7428fc"
      },
      "execution_count": 17,
      "outputs": [
        {
          "output_type": "stream",
          "name": "stdout",
          "text": [
            "\u001b[0;36m[INFO]\u001b[0;0m - Using requirement file: \"/content/AgenticAI-Folder/Labs/Lab1/vehicle_maintenance_agent/tools/requirements.txt\"\n",
            "\u001b[0;36m[INFO]\u001b[0;0m - Existing Tool 'get_vehicle_telematics' found. Updating...\n",
            "\u001b[0;36m[INFO]\u001b[0;0m - Tool 'get_vehicle_telematics' updated successfully\n"
          ]
        }
      ]
    },
    {
      "cell_type": "code",
      "source": [
        "!orchestrate knowledge-bases import -f /content/AgenticAI-Folder/Labs/Lab1/vehicle_maintenance_agent/knowledge_bases/knowledge.yaml"
      ],
      "metadata": {
        "colab": {
          "base_uri": "https://localhost:8080/"
        },
        "id": "VreTJS_N2NeZ",
        "outputId": "6bb34613-0b58-4d40-d949-b23acba6a06c"
      },
      "execution_count": 19,
      "outputs": [
        {
          "output_type": "stream",
          "name": "stdout",
          "text": [
            "\u001b[0;31m[ERROR]\u001b[0;0m - Error importing knowledge base 'vehicle_user_manual\n",
            "' {\"detail\":\"Unique constraint violation: Failed to create a knowledge-base with name vehicle_user_manual, another with the same name exists\"}\n"
          ]
        }
      ]
    },
    {
      "cell_type": "code",
      "source": [
        "!orchestrate agents import -f /content/AgenticAI-Folder/Labs/Lab1/vehicle_maintenance_agent/agents/vehicle_telematics.yaml"
      ],
      "metadata": {
        "colab": {
          "base_uri": "https://localhost:8080/"
        },
        "id": "W23x8G1r2NpK",
        "outputId": "2c2a6371-83b0-4e8d-edca-0624390fac47"
      },
      "execution_count": 21,
      "outputs": [
        {
          "output_type": "stream",
          "name": "stdout",
          "text": [
            "\u001b[0;36m[INFO]\u001b[0;0m - Existing Agent 'vehicle_telematics_agent' found. Updating...\n",
            "\u001b[0;36m[INFO]\u001b[0;0m - Agent 'vehicle_telematics_agent' updated successfully\n"
          ]
        }
      ]
    }
  ]
}